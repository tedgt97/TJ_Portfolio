{
 "cells": [
  {
   "cell_type": "code",
   "execution_count": 100,
   "metadata": {},
   "outputs": [],
   "source": [
    "import docx\n",
    "import pandas as pd\n",
    "from datetime import datetime, date\n",
    "from docx.shared import RGBColor, Pt, Inches\n",
    "from docx.oxml import parse_xml\n",
    "from docx.oxml.shared import OxmlElement\n",
    "from docx.oxml.ns import qn, nsdecls\n",
    "from docx.enum.table import WD_TABLE_ALIGNMENT"
   ]
  },
  {
   "cell_type": "markdown",
   "metadata": {},
   "source": [
    "CONFIG THIS BEFORE RUN"
   ]
  },
  {
   "cell_type": "code",
   "execution_count": 101,
   "metadata": {},
   "outputs": [],
   "source": [
    "Save_Dir = r\"#\"\n",
    "Date1 = '01.02.23'\n",
    "Date2 = 'January 2, 2023'"
   ]
  },
  {
   "cell_type": "markdown",
   "metadata": {},
   "source": [
    "Data Preparation"
   ]
  },
  {
   "cell_type": "code",
   "execution_count": 102,
   "metadata": {},
   "outputs": [],
   "source": [
    "Data_Repository = pd.read_excel(r\"tblReport Query.xlsx\", index_col=None)\n",
    "Data_Repository = Data_Repository.rename(columns = {'Issue Number': 'Issue # Ref', 'Project Name': 'Audit Name', 'Management Action': 'Brief Description'})\n",
    "Data_Repository['Target Date'] = pd.to_datetime(Data_Repository['Target Date']).dt.strftime('%m.%d.%y')\n",
    "Data_Repository['Revised Target Date'] = pd.to_datetime(Data_Repository['Revised Target Date']).dt.strftime('%m.%d.%y')\n",
    "Data_Repository['1st Revised Target Date'] = pd.to_datetime(Data_Repository['1st Revised Target Date']).dt.strftime('%m.%d.%y')\n",
    "Data_Repository['2nd Revised Target Date'] = pd.to_datetime(Data_Repository['2nd Revised Target Date']).dt.strftime('%m.%d.%y')\n",
    "Data_Repository['3rd Revised Target Date'] = pd.to_datetime(Data_Repository['3rd Revised Target Date']).dt.strftime('%m.%d.%y')\n",
    "Data_Repository['Brief Description'] = Data_Repository['Brief Description'].str.lstrip()\n",
    "today_o = date.today().strftime('%m.%d.%y')\n",
    "today = datetime.strptime(today_o, \"%m.%d.%y\")"
   ]
  },
  {
   "cell_type": "code",
   "execution_count": 103,
   "metadata": {},
   "outputs": [],
   "source": [
    "#Revised Date chronic order\n",
    "for i in range(0, len(Data_Repository)):\n",
    "    if pd.isnull(Data_Repository.iloc[i]['3rd Revised Target Date']) == False:\n",
    "        list = [Data_Repository.iloc[i]['1st Revised Target Date'], Data_Repository.iloc[i]['2nd Revised Target Date'], Data_Repository.iloc[i]['3rd Revised Target Date']]\n",
    "        list.sort(key = lambda date: datetime.strptime(date, '%m.%d.%y'))\n",
    "        Data_Repository.loc[i, '1st Revised Target Date'] = Data_Repository.loc[i, '1st Revised Target Date'] = list[0]\n",
    "        Data_Repository.loc[i, '2nd Revised Target Date'] = Data_Repository.loc[i, '2nd Revised Target Date'] = list[1]\n",
    "        Data_Repository.loc[i, '3rd Revised Target Date'] = Data_Repository.loc[i, '3rd Revised Target Date'] = list[2]\n",
    "    elif pd.isnull(Data_Repository.iloc[i]['2nd Revised Target Date']) == False:\n",
    "        list = [Data_Repository.iloc[i]['1st Revised Target Date'], Data_Repository.iloc[i]['2nd Revised Target Date']]\n",
    "        list.sort(key = lambda date: datetime.strptime(date, '%m.%d.%y'))\n",
    "        Data_Repository.loc[i, '1st Revised Target Date'] = Data_Repository.loc[i, '1st Revised Target Date'] = list[0]\n",
    "        Data_Repository.loc[i, '2nd Revised Target Date'] = Data_Repository.loc[i, '2nd Revised Target Date'] = list[1]\n"
   ]
  },
  {
   "cell_type": "markdown",
   "metadata": {},
   "source": [
    "Body"
   ]
  },
  {
   "cell_type": "code",
   "execution_count": 104,
   "metadata": {},
   "outputs": [],
   "source": [
    "def make_rows_bold(*rows):\n",
    "    for row in rows:\n",
    "        for cell in row.cells:\n",
    "            for paragraph in cell.paragraphs:\n",
    "                for run in paragraph.runs:\n",
    "                    run.font.bold = True\n",
    "\n",
    "#Row color\n",
    "shading_elm_1 = parse_xml(r'<w:shd {} w:fill=\"#DEEAF6\"/>'.format(nsdecls('w')))\n",
    "\n",
    "def set_table_header_bg_color(cell):\n",
    "    \"\"\"\n",
    "    set background shading for Header Rows\n",
    "    \"\"\"\n",
    "    tblCell = cell._tc\n",
    "    tblCellProperties = tblCell.get_or_add_tcPr()\n",
    "    clShading = OxmlElement('w:shd')\n",
    "    clShading.set(qn('w:fill'), \"#D9D9D9\")\n",
    "    tblCellProperties.append(clShading)\n",
    "    \n",
    "def set_table_header_bg_color2(cell):\n",
    "    \"\"\"\n",
    "    set background shading for Header Rows\n",
    "    \"\"\"\n",
    "    tblCell = cell._tc\n",
    "    tblCellProperties = tblCell.get_or_add_tcPr()\n",
    "    clShading = OxmlElement('w:shd')\n",
    "    clShading.set(qn('w:fill'), \"#FFC7CE\")\n",
    "    tblCellProperties.append(clShading)"
   ]
  },
  {
   "cell_type": "code",
   "execution_count": 105,
   "metadata": {},
   "outputs": [],
   "source": [
    "def body(To, cc, dept, Date1, Date2, evidence):\n",
    "    doc = docx.Document()\n",
    "    section = doc.sections[0]\n",
    "    section.top_margin = Inches(0.62)\n",
    "    section.bottom_margin = Inches(0.31)\n",
    "    section.left_margin = Inches(0.75)\n",
    "    section.right_margin = Inches(0.81)\n",
    "    normal_style = doc.styles['Normal']\n",
    "    normal_style.font.name = 'Arial'\n",
    "    normal_style.font.size = Pt(10)\n",
    "    normal_style.font.color.rgb = RGBColor(31, 73, 125)\n",
    "\n",
    "\n",
    "    #Content\n",
    "    main1 = '''\n",
    "To: {}\n",
    "\n",
    "cc: {}\n",
    "    '''.format(To, cc)\n",
    "\n",
    "    line1 = '''\n",
    "Subject: {} Open Audit Issues / Action Plans Summary as of {}\n",
    "    '''.format(dept, Date1)\n",
    "\n",
    "    line2 = '''\n",
    "\n",
    "Please find the Outstanding Audit Issues/Action Plans Summary as of {} (attached).\n",
    "\n",
    "When actions have been completed, please provide the supporting evidence to close the action. Email evidence to {}.\n",
    "\n",
    "Should you need to revise the target completion date, please send an email to Internal Audit DH, or designee, noting the revised date, reason for the delay and interim action to mitigate risk, as applicable.\n",
    "\n",
    "Please note: Target Date extensions will need to be approved by the respective Division Head, via email.\n",
    "\n",
    "    '''.format(Date2, evidence)\n",
    "\n",
    "    parag = doc.add_paragraph(main1, 'Normal')\n",
    "    parag.add_run(line1).font.color.rgb = RGBColor(0, 32, 96)\n",
    "    parag.add_run(line2)\n",
    "\n",
    "    #Data Table Preset\n",
    "    excel = Data_Repository[Data_Repository['DepartmentResponsible'] == dept]\n",
    "    n1 = 2\n",
    "    if excel['3rd Revised Target Date'].notnull().any() == True:\n",
    "        excel = excel[['Issue # Ref', 'Target Date', '1st Revised Target Date', '2nd Revised Target Date', '3rd Revised Target Date', 'Revised Target Date', 'Audit Name', 'Brief Description']]\n",
    "    elif excel['2nd Revised Target Date'].notnull().any() == True:\n",
    "        excel = excel[['Issue # Ref', 'Target Date', '1st Revised Target Date', '2nd Revised Target Date', 'Revised Target Date', 'Audit Name', 'Brief Description']]\n",
    "    elif excel['1st Revised Target Date'].notnull().any() == True:\n",
    "        excel = excel[['Issue # Ref', 'Target Date', '1st Revised Target Date', 'Revised Target Date', 'Audit Name', 'Brief Description']]\n",
    "    elif excel['Revised Target Date'].notnull().any() == True:\n",
    "        excel = excel[['Issue # Ref', 'Target Date', 'Revised Target Date', 'Audit Name', 'Brief Description']]\n",
    "    else:\n",
    "        excel = excel[['Issue # Ref', 'Target Date', 'Audit Name', 'Brief Description']]\n",
    "    columns = excel.columns\n",
    "    n2 = len(columns)\n",
    "    excel = excel.fillna('')\n",
    "\n",
    "    #Table Basic Format\n",
    "    table = doc.add_table(rows = n1, cols = n2)\n",
    "    table.allow_autofit = True\n",
    "    table.alignment = WD_TABLE_ALIGNMENT.LEFT\n",
    "    table.cell(0, 0).text = 'High-level Status' #First row text\n",
    "    make_rows_bold(table.rows[0]) #First row Bold\n",
    "    table.cell(0, 0).merge(table.rows[0].cells[-1]) #First row merge\n",
    "    table.cell(0,0)._tc.get_or_add_tcPr().append(shading_elm_1) #First row color\n",
    "    for col in range(len(columns)): #Column Names\n",
    "        table.cell(1, col).text = columns[col]\n",
    "        table.cell(1,col).paragraphs[0].paragraph_format.alignment = WD_TABLE_ALIGNMENT.CENTER\n",
    "    for each_cell in table.rows[1].cells: #Second row color\n",
    "        set_table_header_bg_color(each_cell)\n",
    "\n",
    "\n",
    "    #Table Adding Contents\n",
    "    for i, row in enumerate(excel.iloc[0:].itertuples()):\n",
    "        table_row = table.add_row().cells\n",
    "        for col in range(0, n2):\n",
    "            table_row[col].text = str(row[col+1]) #+1 for ignore index\n",
    "            table_row[col].paragraphs[0].paragraph_format.alignment = WD_TABLE_ALIGNMENT.LEFT\n",
    "\n",
    "    #Expired Action Highlight\n",
    "    if len(excel.columns) >= 5:\n",
    "        for row in range(3, len(table.rows) + 1):\n",
    "            if table.cell(row, -3).text != '':\n",
    "                if datetime.strptime(table.cell(row, -3).text, \"%m.%d.%y\") < today:\n",
    "                    set_table_header_bg_color2(table.rows[row -1].cells[-3]) \n",
    "            else:\n",
    "                if datetime.strptime(table.cell(row -1, 1).text, \"%m.%d.%y\") < today:\n",
    "                    set_table_header_bg_color2(table.rows[row - 1].cells[1])\n",
    "\n",
    "    elif len(excel.columns) == 4:\n",
    "        for row in range(3, len(table.rows) + 1):\n",
    "            if datetime.strptime(table.cell(row, -3).text, \"%m.%d.%y\") < today:\n",
    "                set_table_header_bg_color2(table.rows[row -1].cells[1])\n",
    "\n",
    "\n",
    "    #Table margin setting\n",
    "    table.rows[0].height = Inches(0.25)\n",
    "    table.rows[1].height = Inches(0.3)\n",
    "\n",
    "    for cell in table.columns[-1].cells:\n",
    "        cell.width = Inches(7.35)\n",
    "\n",
    "    #Change whole table text color\n",
    "    for row in table.rows:\n",
    "        for cell in row.cells:\n",
    "            paragraphs = cell.paragraphs\n",
    "            for paragraph in paragraphs:\n",
    "                for run in paragraph.runs:\n",
    "                    run.font.color.rgb = RGBColor(0,0,0)\n",
    "\n",
    "    table.style = 'Table Grid'\n",
    "\n",
    "    doc.save(Save_Dir + '\\\\' + dept + '_' + Date1 + '.docx')\n"
   ]
  },
  {
   "cell_type": "markdown",
   "metadata": {},
   "source": [
    "Departments"
   ]
  },
  {
   "cell_type": "code",
   "execution_count": 106,
   "metadata": {},
   "outputs": [],
   "source": [
    "deps = ['Accounting & Tax', 'Collections', 'Commercial Credit', 'Human Resources', 'Information Protection', 'Infrastructure Services', 'IT', 'Marketing', 'Product Development', 'Servicing & Loyalty']"
   ]
  },
  {
   "cell_type": "code",
   "execution_count": 107,
   "metadata": {},
   "outputs": [],
   "source": [
    "#To = 0 cc = 1 evidence = 2\n",
    "dict = {\n",
    "    'Accounting & Tax': ['Elwin, Jinny', 'Gelashvili, Makhmud', 'Ted Jung'],\n",
    "\n",
    "    'Collections': ['McKee,Temo', 'Leclerc, Ghjuvanni; Ishida, Neelam; Wehnert, Phil', 'Ted Jung'],\n",
    "\n",
    "    'Commercial Credit': ['Rennoll, Annabelle', 'Gismondi, Sjors; Allegri, Siothrún; Xanthopoulos, Phuntsok', 'Ted Jung'],\n",
    "\n",
    "    'Human Resources': ['Horn, Jacinto', 'Darnell, Xavier; Klasson, Hugo; Stojanović, Euadne', 'Ted Jung'],\n",
    "\n",
    "    'Information Protection': ['Daniels, Dikla', 'Simon, Avrum; Farber, Ness; Mawuli, Murray', 'Ted Jung'],\n",
    "\n",
    "    'Marketing': ['Kavanagh, Irina', 'Faucher, Boubacar', 'Ted Jung'],\n",
    "\n",
    "    'Product Development': ['Romagna, Motecuhzoma', 'Michelakos, Ainoa', 'Ted Jung'],\n",
    "\n",
    "    'Servicing & Loyalty': ['Jaskulski, Shalva', 'Kaur, Quanah; Weston, Girisha; Ansaldi, Tamatoa', 'Ted Jung']\n",
    "}"
   ]
  },
  {
   "cell_type": "markdown",
   "metadata": {},
   "source": [
    "Generator"
   ]
  },
  {
   "cell_type": "code",
   "execution_count": 108,
   "metadata": {},
   "outputs": [],
   "source": [
    "for i in deps:\n",
    "    body(dict[i][0], dict[i][1], i, Date1, Date2, dict[i][2]) #To, cc, dept, Date1, Date2, evidence"
   ]
  },
  {
   "cell_type": "code",
   "execution_count": null,
   "metadata": {},
   "outputs": [],
   "source": []
  }
 ],
 "metadata": {
  "kernelspec": {
   "display_name": "Python 3.10.6 64-bit (system)",
   "language": "python",
   "name": "python3"
  },
  "language_info": {
   "codemirror_mode": {
    "name": "ipython",
    "version": 3
   },
   "file_extension": ".py",
   "mimetype": "text/x-python",
   "name": "python",
   "nbconvert_exporter": "python",
   "pygments_lexer": "ipython3",
   "version": "3.10.6 (tags/v3.10.6:9c7b4bd, Aug  1 2022, 21:53:49) [MSC v.1932 64 bit (AMD64)]"
  },
  "orig_nbformat": 4,
  "vscode": {
   "interpreter": {
    "hash": "764c3a15b61011395ad4072bdf116adee85f34914237f1402b2f3a384d729196"
   }
  }
 },
 "nbformat": 4,
 "nbformat_minor": 2
}
